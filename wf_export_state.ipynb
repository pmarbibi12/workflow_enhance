{
 "cells": [
  {
   "cell_type": "code",
   "execution_count": 1,
   "metadata": {},
   "outputs": [],
   "source": [
    "import requests\n",
    "import pathlib\n",
    "import pandas"
   ]
  },
  {
   "cell_type": "code",
   "execution_count": 2,
   "metadata": {},
   "outputs": [],
   "source": [
    "instaceIds = []\n",
    "productGuids = []\n",
    "# workflowId = input(\"Enter Workflow ID: \")\n",
    "# auth = input(\"Enter Auth Code: \")\n"
   ]
  },
  {
   "cell_type": "code",
   "execution_count": 3,
   "metadata": {},
   "outputs": [],
   "source": [
    "workflowId = \"c0c48edf-2645-4271-b8b6-cfa33d720876\"\n",
    "productId = \"276a5994-04ab-48c2-92ed-eb55e070ab90\"\n",
    "env = \"api.syndigo.com\""
   ]
  },
  {
   "cell_type": "code",
   "execution_count": 5,
   "metadata": {},
   "outputs": [],
   "source": [
    "auth = \"EN AkVOZZ4SaRThrEuRm/U8cL6KKAhwbWFyYmliaXT9eVFP6tkBdT1ees/v2QECAAAAEkVOLlJvb3RQZXJtaXNzaW9ucwMxMjYAAA9FTi5Vc2VyRnVsbE5hbWULUGFuIE1hcmJpYmkAAIscXAbqdbcCteYGlP6CJ1TLYqVi3vNx2gUnkVyUYnEM3zMiNKM+CwAmhr2AKW9cUFqw0UcwwBXL2FH87+e76hKPok65AP0Tf9+7P8fPZd/uV1iDH600hSxVf/w8LkFQc1Uh1JXlexAzQEDRXhvLYU9C5UR73ITqWiX+L6mJYoxl\"\n",
    "status_search_url = f\"https://{env}/api/workflow/WorkflowGrain/status/{workflowId}/{productId}\"\n",
    "headers =  {\"User-Agent\": \"PostmanRuntime/y.32.3\", \"Accept\": \"*/*\", \"Accept-Encoding\": \"gzip,deflate,br\" , \"Connection\" : \"keep-alive\",\n",
    "            \"Authorization\": auth}"
   ]
  },
  {
   "cell_type": "code",
   "execution_count": 6,
   "metadata": {},
   "outputs": [
    {
     "data": {
      "text/plain": [
       "200"
      ]
     },
     "execution_count": 6,
     "metadata": {},
     "output_type": "execute_result"
    }
   ],
   "source": [
    "response = requests.get(status_search_url, headers=headers)\n",
    "response.status_code"
   ]
  },
  {
   "cell_type": "code",
   "execution_count": 10,
   "metadata": {},
   "outputs": [
    {
     "data": {
      "text/plain": [
       "{'GrainType': {'FullName': 'Go.Orleans.GrainInterfaces.IWorkflowGrain`1, Go.Orleans.GrainInterfaces',\n",
       "  'Parameters': [{'FullName': 'Go.Orleans.Workflow.InboundPublicationWorkflowParameters, Go.Orleans.Workflow',\n",
       "    'Parameters': []}]},\n",
       " 'Timestamp': '2023-09-15T21:23:13.463+00:00',\n",
       " 'WorkflowDefinitionId': 'c0c48edf-2645-4271-b8b6-cfa33d720876',\n",
       " 'WorkflowInstanceId': '7f09f16c-597e-4458-a4ba-7aa1a0281303',\n",
       " 'PrimaryIdentifier': '276a5994-04ab-48c2-92ed-eb55e070ab90',\n",
       " 'AlternateIdentifier': 'c09a5950-4e57-495f-8cee-d65a55ddf7a9',\n",
       " 'Statuses': ['da51455e-77fa-474f-918a-f7938452ba2d'],\n",
       " 'Username': '(Unknown User)',\n",
       " 'DataOwner': 'c7407733-1be6-452b-82b1-95a89c0cb2a1',\n",
       " 'WorkflowVersion': 41}"
      ]
     },
     "execution_count": 10,
     "metadata": {},
     "output_type": "execute_result"
    }
   ],
   "source": [
    "json_response = response.json()\n",
    "json_response"
   ]
  },
  {
   "cell_type": "code",
   "execution_count": 11,
   "metadata": {},
   "outputs": [
    {
     "data": {
      "text/plain": [
       "'2023-09-15T21:23:13.463+00:00'"
      ]
     },
     "execution_count": 11,
     "metadata": {},
     "output_type": "execute_result"
    }
   ],
   "source": [
    "json_response[\"Timestamp\"]"
   ]
  }
 ],
 "metadata": {
  "kernelspec": {
   "display_name": "dev",
   "language": "python",
   "name": "python3"
  },
  "language_info": {
   "codemirror_mode": {
    "name": "ipython",
    "version": 3
   },
   "file_extension": ".py",
   "mimetype": "text/x-python",
   "name": "python",
   "nbconvert_exporter": "python",
   "pygments_lexer": "ipython3",
   "version": "3.10.11"
  },
  "orig_nbformat": 4
 },
 "nbformat": 4,
 "nbformat_minor": 2
}
